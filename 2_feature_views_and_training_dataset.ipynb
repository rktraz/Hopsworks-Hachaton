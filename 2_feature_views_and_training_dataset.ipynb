{
 "cells": [
  {
   "cell_type": "markdown",
   "id": "74465d2d",
   "metadata": {},
   "source": [
    "## <span style=\"color:#ff5f27;\"> 🔮 Connecting to Hopsworks Feature Store </span>"
   ]
  },
  {
   "cell_type": "code",
   "execution_count": 1,
   "id": "d56cdc4b",
   "metadata": {},
   "outputs": [
    {
     "name": "stdout",
     "output_type": "stream",
     "text": [
      "Connected. Call `.close()` to terminate connection gracefully.\n",
      "\n",
      "Logged in to project, explore it here https://2176a0f0-3503-11ed-be64-b1a4781e5f0a.cloud.hopsworks.ai/p/128\n",
      "Connected. Call `.close()` to terminate connection gracefully.\n"
     ]
    }
   ],
   "source": [
    "import hopsworks\n",
    "\n",
    "project = hopsworks.login()\n",
    "\n",
    "fs = project.get_feature_store()          "
   ]
  },
  {
   "cell_type": "markdown",
   "id": "e27b03c6",
   "metadata": {},
   "source": [
    "## <span style=\"color:#ff5f27;\">🪄 Retrieving Feature Groups</span>"
   ]
  },
  {
   "cell_type": "code",
   "execution_count": 2,
   "id": "b495068c",
   "metadata": {},
   "outputs": [],
   "source": [
    "profile_fg = fs.get_or_create_feature_group(\n",
    "    name = 'profile_fg',\n",
    "    version = 1\n",
    ")\n",
    "tickets_fg = fs.get_or_create_feature_group(\n",
    "    name = 'tickets_fg',\n",
    "    version = 1\n",
    ")"
   ]
  },
  {
   "cell_type": "markdown",
   "id": "3a719236",
   "metadata": {},
   "source": [
    "## <span style=\"color:#ff5f27;\">💼 Query Preparation</span>"
   ]
  },
  {
   "cell_type": "code",
   "execution_count": 3,
   "id": "09ff4db4",
   "metadata": {},
   "outputs": [
    {
     "name": "stdout",
     "output_type": "stream",
     "text": [
      "2022-09-16 11:54:44,790 INFO: USE `model_serving_featurestore`\n",
      "2022-09-16 11:54:45,527 INFO: SELECT `fg1`.`passengerid` `passengerid`, `fg1`.`sex` `sex`, `fg1`.`age` `age`, `fg1`.`survived` `survived`, `fg0`.`pclass` `pclass`, `fg0`.`sibsp` `sibsp`, `fg0`.`parch` `parch`, `fg0`.`fare` `fare`, `fg0`.`embarked` `embarked`\n",
      "FROM `model_serving_featurestore`.`profile_fg_1` `fg1`\n",
      "INNER JOIN `model_serving_featurestore`.`tickets_fg_1` `fg0` ON `fg1`.`passengerid` = `fg0`.`passengerid`\n"
     ]
    },
    {
     "data": {
      "text/html": [
       "<div>\n",
       "<style scoped>\n",
       "    .dataframe tbody tr th:only-of-type {\n",
       "        vertical-align: middle;\n",
       "    }\n",
       "\n",
       "    .dataframe tbody tr th {\n",
       "        vertical-align: top;\n",
       "    }\n",
       "\n",
       "    .dataframe thead th {\n",
       "        text-align: right;\n",
       "    }\n",
       "</style>\n",
       "<table border=\"1\" class=\"dataframe\">\n",
       "  <thead>\n",
       "    <tr style=\"text-align: right;\">\n",
       "      <th></th>\n",
       "      <th>passengerid</th>\n",
       "      <th>sex</th>\n",
       "      <th>age</th>\n",
       "      <th>survived</th>\n",
       "      <th>pclass</th>\n",
       "      <th>sibsp</th>\n",
       "      <th>parch</th>\n",
       "      <th>fare</th>\n",
       "      <th>embarked</th>\n",
       "    </tr>\n",
       "  </thead>\n",
       "  <tbody>\n",
       "    <tr>\n",
       "      <th>0</th>\n",
       "      <td>451</td>\n",
       "      <td>male</td>\n",
       "      <td>36.0</td>\n",
       "      <td>0</td>\n",
       "      <td>2</td>\n",
       "      <td>1</td>\n",
       "      <td>2</td>\n",
       "      <td>27.7500</td>\n",
       "      <td>S</td>\n",
       "    </tr>\n",
       "    <tr>\n",
       "      <th>1</th>\n",
       "      <td>299</td>\n",
       "      <td>male</td>\n",
       "      <td>28.0</td>\n",
       "      <td>1</td>\n",
       "      <td>1</td>\n",
       "      <td>0</td>\n",
       "      <td>0</td>\n",
       "      <td>30.5000</td>\n",
       "      <td>S</td>\n",
       "    </tr>\n",
       "    <tr>\n",
       "      <th>2</th>\n",
       "      <td>352</td>\n",
       "      <td>male</td>\n",
       "      <td>29.0</td>\n",
       "      <td>0</td>\n",
       "      <td>1</td>\n",
       "      <td>0</td>\n",
       "      <td>0</td>\n",
       "      <td>35.0000</td>\n",
       "      <td>S</td>\n",
       "    </tr>\n",
       "    <tr>\n",
       "      <th>3</th>\n",
       "      <td>497</td>\n",
       "      <td>female</td>\n",
       "      <td>54.0</td>\n",
       "      <td>1</td>\n",
       "      <td>1</td>\n",
       "      <td>1</td>\n",
       "      <td>0</td>\n",
       "      <td>78.2667</td>\n",
       "      <td>C</td>\n",
       "    </tr>\n",
       "    <tr>\n",
       "      <th>4</th>\n",
       "      <td>690</td>\n",
       "      <td>female</td>\n",
       "      <td>15.0</td>\n",
       "      <td>1</td>\n",
       "      <td>1</td>\n",
       "      <td>0</td>\n",
       "      <td>1</td>\n",
       "      <td>211.3375</td>\n",
       "      <td>S</td>\n",
       "    </tr>\n",
       "  </tbody>\n",
       "</table>\n",
       "</div>"
      ],
      "text/plain": [
       "   passengerid     sex   age  survived  pclass  sibsp  parch      fare  \\\n",
       "0          451    male  36.0         0       2      1      2   27.7500   \n",
       "1          299    male  28.0         1       1      0      0   30.5000   \n",
       "2          352    male  29.0         0       1      0      0   35.0000   \n",
       "3          497  female  54.0         1       1      1      0   78.2667   \n",
       "4          690  female  15.0         1       1      0      1  211.3375   \n",
       "\n",
       "  embarked  \n",
       "0        S  \n",
       "1        S  \n",
       "2        S  \n",
       "3        C  \n",
       "4        S  "
      ]
     },
     "execution_count": 3,
     "metadata": {},
     "output_type": "execute_result"
    }
   ],
   "source": [
    "query = profile_fg.select_all().join(tickets_fg.select_all())\n",
    "\n",
    "query_show = query.show(5)\n",
    "col_names = query_show.columns\n",
    "\n",
    "query_show"
   ]
  },
  {
   "cell_type": "markdown",
   "id": "10f177b7",
   "metadata": {},
   "source": [
    "## <span style=\"color:#ff5f27;\">🧑🏻‍🔬 Transformation functions</span>"
   ]
  },
  {
   "cell_type": "code",
   "execution_count": 4,
   "id": "ae3e2055",
   "metadata": {},
   "outputs": [],
   "source": [
    "standard_scaler = fs.get_transformation_function(name = 'standard_scaler')\n",
    "min_max_scaler = fs.get_transformation_function(name = 'min_max_scaler')\n",
    "label_encoder = fs.get_transformation_function(name = 'label_encoder')"
   ]
  },
  {
   "cell_type": "code",
   "execution_count": 5,
   "id": "f3d50d55",
   "metadata": {},
   "outputs": [
    {
     "data": {
      "text/plain": [
       "{'sex': <hsfs.transformation_function.TransformationFunction at 0x7f7673d18a00>,\n",
       " 'embarked': <hsfs.transformation_function.TransformationFunction at 0x7f7673d18a00>,\n",
       " 'pclass': <hsfs.transformation_function.TransformationFunction at 0x7f76beb3cdf0>,\n",
       " 'sibsp': <hsfs.transformation_function.TransformationFunction at 0x7f76beb3cdf0>,\n",
       " 'parch': <hsfs.transformation_function.TransformationFunction at 0x7f76beb3cdf0>,\n",
       " 'age': <hsfs.transformation_function.TransformationFunction at 0x7f76beb3cdf0>,\n",
       " 'fare': <hsfs.transformation_function.TransformationFunction at 0x7f7673d18430>}"
      ]
     },
     "execution_count": 5,
     "metadata": {},
     "output_type": "execute_result"
    }
   ],
   "source": [
    "mapping_transformers = {col_name:label_encoder for col_name in ['sex','embarked']}\n",
    "mapping_transformers.update({col_name:standard_scaler for col_name in ['pclass','sibsp','parch','age']})\n",
    "mapping_transformers.update({'fare':min_max_scaler})\n",
    "\n",
    "mapping_transformers"
   ]
  },
  {
   "cell_type": "markdown",
   "id": "8611b4c5",
   "metadata": {},
   "source": [
    "## <span style=\"color:#ff5f27;\"> ⚙️ Feature View Creation </span>"
   ]
  },
  {
   "cell_type": "code",
   "execution_count": 6,
   "id": "44a800b6",
   "metadata": {},
   "outputs": [
    {
     "name": "stdout",
     "output_type": "stream",
     "text": [
      "Feature view created successfully, explore it at \n",
      "https://2176a0f0-3503-11ed-be64-b1a4781e5f0a.cloud.hopsworks.ai/p/128/fs/76/fv/titanic_fv/version/1\n"
     ]
    }
   ],
   "source": [
    "feature_view = fs.create_feature_view(\n",
    "    name='titanic_fv',\n",
    "    version=1,\n",
    "    transformation_functions=mapping_transformers,\n",
    "    query=query,\n",
    "    labels=['survived']\n",
    ")"
   ]
  },
  {
   "cell_type": "markdown",
   "id": "9797ce39",
   "metadata": {},
   "source": [
    "## <span style=\"color:#ff5f27;\"> 🏋️ Training Dataset Creation</span>\n",
    "\n"
   ]
  },
  {
   "cell_type": "code",
   "execution_count": 7,
   "id": "76c3a639",
   "metadata": {},
   "outputs": [
    {
     "name": "stdout",
     "output_type": "stream",
     "text": [
      "Training dataset job started successfully, you can follow the progress at \n",
      "https://2176a0f0-3503-11ed-be64-b1a4781e5f0a.cloud.hopsworks.ai/p/128/jobs/named/titanic_fv_1_1_create_fv_td_16092022115512/executions\n"
     ]
    },
    {
     "name": "stderr",
     "output_type": "stream",
     "text": [
      "VersionWarning: Incremented version to `1`.\n"
     ]
    },
    {
     "data": {
      "text/plain": [
       "(1, <hsfs.core.job.Job at 0x7f7673d41730>)"
      ]
     },
     "execution_count": 7,
     "metadata": {},
     "output_type": "execute_result"
    }
   ],
   "source": [
    "feature_view.create_training_data()"
   ]
  },
  {
   "cell_type": "code",
   "execution_count": 8,
   "id": "405520d9",
   "metadata": {},
   "outputs": [
    {
     "name": "stdout",
     "output_type": "stream",
     "text": [
      "Training dataset job started successfully, you can follow the progress at \n",
      "https://2176a0f0-3503-11ed-be64-b1a4781e5f0a.cloud.hopsworks.ai/p/128/jobs/named/titanic_fv_1_2_create_fv_td_16092022115618/executions\n"
     ]
    },
    {
     "name": "stderr",
     "output_type": "stream",
     "text": [
      "VersionWarning: Incremented version to `2`.\n"
     ]
    },
    {
     "data": {
      "text/plain": [
       "(2, <hsfs.core.job.Job at 0x7f7673cd3670>)"
      ]
     },
     "execution_count": 8,
     "metadata": {},
     "output_type": "execute_result"
    }
   ],
   "source": [
    "feature_view.create_train_validation_test_split(\n",
    "    validation_size=0.1,\n",
    "    test_size=0.2\n",
    ")"
   ]
  },
  {
   "cell_type": "markdown",
   "id": "f5450c97",
   "metadata": {},
   "source": [
    "---"
   ]
  }
 ],
 "metadata": {
  "kernelspec": {
   "display_name": "Python",
   "language": "python",
   "name": "python3"
  },
  "language_info": {
   "codemirror_mode": {
    "name": "ipython",
    "version": 3
   },
   "file_extension": ".py",
   "mimetype": "text/x-python",
   "name": "python",
   "nbconvert_exporter": "python",
   "pygments_lexer": "ipython3",
   "version": "3.8.11"
  }
 },
 "nbformat": 4,
 "nbformat_minor": 5
}